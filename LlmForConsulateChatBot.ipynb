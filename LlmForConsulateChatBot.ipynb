{
  "nbformat": 4,
  "nbformat_minor": 0,
  "metadata": {
    "colab": {
      "provenance": [],
      "gpuType": "T4",
      "authorship_tag": "ABX9TyPXl+s5KUEh+nLhWEStJEOg",
      "include_colab_link": true
    },
    "kernelspec": {
      "name": "python3",
      "display_name": "Python 3"
    },
    "language_info": {
      "name": "python"
    },
    "accelerator": "GPU"
  },
  "cells": [
    {
      "cell_type": "markdown",
      "metadata": {
        "id": "view-in-github",
        "colab_type": "text"
      },
      "source": [
        "<a href=\"https://colab.research.google.com/github/JuliKM/Llm-hackathon/blob/main/LlmForConsulateChatBot.ipynb\" target=\"_parent\"><img src=\"https://colab.research.google.com/assets/colab-badge.svg\" alt=\"Open In Colab\"/></a>"
      ]
    },
    {
      "cell_type": "code",
      "execution_count": null,
      "metadata": {
        "id": "obFmvQhDteYm"
      },
      "outputs": [],
      "source": [
        "#Install necessary libraries\n",
        "!pip install langchain #==0.0.191\n",
        "!pip install chromadb\n",
        "!pip install tiktoken\n",
        "!pip install unstructured\n",
        "!pip install openai"
      ]
    },
    {
      "cell_type": "code",
      "source": [
        "#Get api_key from env\n",
        "import os\n",
        "api_key = os.environ.get('API_URL')"
      ],
      "metadata": {
        "id": "cY4Bs82cosgd"
      },
      "execution_count": 100,
      "outputs": []
    },
    {
      "cell_type": "code",
      "source": [
        "from langchain.document_loaders import UnstructuredURLLoader\n",
        "\n",
        "urls = [\n",
        "    \"https://consmendoza.esteri.it/consolato_mendoza/it/la_comunicazione/dal_consolato/2023/06/prenot-mi-appuntamenti-anagrafe_14.html\",\n",
        "    \"https://consmendoza.esteri.it/consolato_mendoza/it/i_servizi/per_i_cittadini/cittadinanza/ciudania-matrimonio-req.html\",\n",
        "    \"https://consmendoza.esteri.it/consolato_mendoza/resource/doc/2021/06/guida_citt_x_mat.pdf\",\n",
        "    \"https://consmendoza.esteri.it/consolato_mendoza/es/i_servizi/per_i_cittadini/cittadinanza/ciudadania-matrimonio-doc.html\",\n",
        "    \"https://consmendoza.esteri.it/consolato_mendoza/it/\",\n",
        "    \"https://docs.google.com/document/d/e/2PACX-1vT8qHba7oGpVWg8FJvToQMgJBGpEib3xyKLHvei_7S2i3Gi5PyFtU6SS7z47AgJQEaNqS0EubNpVYkx/pub\",\n",
        "    \"https://consmendoza.esteri.it/consolato_mendoza/it/la_comunicazione/dal_consolato/2023/06/prenot-mi-appuntamenti-anagrafe_14.html\",\n",
        "    \"https://consmendoza.esteri.it/consolato_mendoza/it/la_comunicazione/dal_consolato/\",\n",
        "    \"https://consmendoza.esteri.it/consolato_mendoza/es\",\n",
        "    \"https://consmendoza.esteri.it/consolato_mendoza/resource/img/2023/05/tabella_tariffe_consolari_maggio_2023.pdf\",\n",
        "    ]\n",
        "\n",
        "loader = UnstructuredURLLoader(urls=urls)"
      ],
      "metadata": {
        "id": "6wQnS1q29mlt"
      },
      "execution_count": 74,
      "outputs": []
    },
    {
      "cell_type": "code",
      "source": [
        "data = loader.load()"
      ],
      "metadata": {
        "id": "e5j5cd0Y-d8K"
      },
      "execution_count": 75,
      "outputs": []
    },
    {
      "cell_type": "code",
      "source": [
        "# Import RecursiveCharacterTextSplitter\n",
        "from langchain.text_splitter import RecursiveCharacterTextSplitter\n",
        "\n",
        "# Create the text splitter\n",
        "splitter = RecursiveCharacterTextSplitter(\n",
        "    chunk_size=1000,\n",
        "    chunk_overlap=200\n",
        ")\n",
        "\n",
        "# Split the documents\n",
        "documents = splitter.split_documents(data)"
      ],
      "metadata": {
        "id": "CyCJmbg0_leo"
      },
      "execution_count": 76,
      "outputs": []
    },
    {
      "cell_type": "code",
      "source": [
        "# Import tiktoken\n",
        "import tiktoken\n",
        "\n",
        "# Create an encoder\n",
        "encoder = tiktoken.encoding_for_model(\"text-embedding-ada-002\")\n",
        "\n",
        "# Count tokens in each document\n",
        "doc_tokens = [len(encoder.encode(doc.page_content)) for doc in documents]\n",
        "\n",
        "# Calculate the sum of all token counts\n",
        "total_tokens = sum(doc_tokens)\n",
        "\n",
        "# Calculate a cost estimate\n",
        "cost = (total_tokens/1000) * 0.0004\n",
        "print(f\"Total tokens: {total_tokens} - cost: ${cost:.2f}\")"
      ],
      "metadata": {
        "colab": {
          "base_uri": "https://localhost:8080/"
        },
        "id": "RaBHB_6t_rIQ",
        "outputId": "56f44ef7-43c4-49d8-e334-f6a905450492"
      },
      "execution_count": 83,
      "outputs": [
        {
          "output_type": "stream",
          "name": "stdout",
          "text": [
            "Total tokens: 18254 - cost: $0.01\n"
          ]
        }
      ]
    },
    {
      "cell_type": "code",
      "source": [
        "# Import chroma\n",
        "from langchain.vectorstores import Chroma\n",
        "\n",
        "# Import OpenAIEmbeddings\n",
        "from langchain.embeddings.openai import OpenAIEmbeddings\n",
        "\n",
        "# Create the mebedding function\n",
        "embedding_function = OpenAIEmbeddings(openai_api_key= api_key)\n",
        "\n",
        "# Create a database from the documents and embedding function\n",
        "db = Chroma.from_documents(documents=documents, embedding=embedding_function, persist_directory=\"my-embeddings\")\n",
        "\n",
        "# Persist the data to disk\n",
        "db.persist()"
      ],
      "metadata": {
        "id": "2PE2Zy-gAQwE"
      },
      "execution_count": 84,
      "outputs": []
    },
    {
      "cell_type": "code",
      "source": [
        "# Import\n",
        "from langchain.prompts import PromptTemplate\n",
        "from langchain.chains.llm import LLMChain\n",
        "from langchain.chat_models import ChatOpenAI\n",
        "\n",
        "# Set the question variable\n",
        "question = \"¿Cual es el handle de twitter del consulado de italia en mendoza?\"\n",
        "#question = \"¿Quando sono i proximi appuntamenti per cittadinanza del consolato d' italia en mendoza?\"\n",
        "#question = \"Que pasos debo realizar  para pedir la ciudadania por matrimonio? ¿Puedes ponerlo en una lista en viñetas?\"\n",
        "#question = \"Que requisitos debo cumplir  para pedir la ciudadania por matrimonio? ¿Puedes ponerlo en una lista en viñetas?\"\n",
        "#question = \"¿cuanto demora el certificado de antecedentes penales?\"\n",
        "\n",
        "# Query the database as store the results as `context_docs`\n",
        "context_docs = db.similarity_search(question)\n",
        "\n",
        "# Create a prompt with 2 variables: `context` and `question`\n",
        "prompt = PromptTemplate(\n",
        "    template=\"\"\"\"Usa i seguenti elementi di contesto per rispondere alla domanda alla fine. Se non conosci la risposta, dì semplicemente che non lo sai, non cercare di inventare una risposta.\n",
        "\n",
        "<context>\n",
        "{context}\n",
        "</context>\n",
        "\n",
        "Domanda: {question}\n",
        "Risposta:\"\"\",\n",
        "    input_variables=[\"context\", \"question\"]\n",
        ")\n",
        "\n",
        "prompt = PromptTemplate(\n",
        "    template=\"\"\"\"Usa los siguientes elementos de contexto para responder a la pregunta al final. Si no conoces la respuesta, di que no lo sabes,no inventes una respuesta.\n",
        "\n",
        "<context>\n",
        "{context}\n",
        "</context>\n",
        "\n",
        "Domanda: {question}\n",
        "Respuesta:\"\"\",\n",
        "    input_variables=[\"context\", \"question\"]\n",
        ")\n",
        "\n",
        "# Create an LLM with ChatOpenAI\n",
        "llm = ChatOpenAI(openai_api_key=api_key,temperature=0)\n",
        "\n",
        "# Create the chain\n",
        "qa_chain = LLMChain(llm=llm, prompt=prompt)\n",
        "\n",
        "# Call the chain\n",
        "result = qa_chain({\n",
        "    \"question\": question,\n",
        "    \"context\": \"\\n\".join([doc.page_content for doc in context_docs])\n",
        "})\n",
        "\n",
        "# Print the result\n",
        "print(result[\"text\"])"
      ],
      "metadata": {
        "id": "ZFUd4Y7pF-r0"
      },
      "execution_count": null,
      "outputs": []
    }
  ]
}