{
  "nbformat": 4,
  "nbformat_minor": 0,
  "metadata": {
    "colab": {
      "provenance": [],
      "gpuType": "T4",
      "authorship_tag": "ABX9TyP4sXeSTcfMNn1bI07tio3D",
      "include_colab_link": true
    },
    "kernelspec": {
      "name": "python3",
      "display_name": "Python 3"
    },
    "language_info": {
      "name": "python"
    },
    "accelerator": "GPU"
  },
  "cells": [
    {
      "cell_type": "markdown",
      "metadata": {
        "id": "view-in-github",
        "colab_type": "text"
      },
      "source": [
        "<a href=\"https://colab.research.google.com/github/JuliKM/Llm-hackathon/blob/main/LlmForConsulateChatBot.ipynb\" target=\"_parent\"><img src=\"https://colab.research.google.com/assets/colab-badge.svg\" alt=\"Open In Colab\"/></a>"
      ]
    },
    {
      "cell_type": "code",
      "execution_count": null,
      "metadata": {
        "id": "obFmvQhDteYm"
      },
      "outputs": [],
      "source": [
        "#Install necessary libraries\n",
        "!pip install langchain\n",
        "!pip install chromadb\n",
        "!pip install tiktoken\n",
        "!pip install unstructured\n",
        "!pip install openai"
      ]
    },
    {
      "cell_type": "code",
      "source": [
        "#Get api_key\n",
        "from getpass import getpass\n",
        "api_key = getpass()"
      ],
      "metadata": {
        "id": "cY4Bs82cosgd",
        "outputId": "7c65ad14-eb64-4b34-9f78-27cd070fcf1a",
        "colab": {
          "base_uri": "https://localhost:8080/"
        }
      },
      "execution_count": 52,
      "outputs": [
        {
          "name": "stdout",
          "output_type": "stream",
          "text": [
            "··········\n"
          ]
        }
      ]
    },
    {
      "cell_type": "code",
      "source": [
        "from langchain.document_loaders import UnstructuredURLLoader\n",
        "\n",
        "urls = [\n",
        "    \"https://consmendoza.esteri.it/consolato_mendoza/it/la_comunicazione/dal_consolato/2023/06/prenot-mi-appuntamenti-anagrafe_14.html\",\n",
        "    \"https://consmendoza.esteri.it/consolato_mendoza/it/i_servizi/per_i_cittadini/cittadinanza/ciudania-matrimonio-req.html\",\n",
        "    \"https://consmendoza.esteri.it/consolato_mendoza/resource/doc/2021/06/guida_citt_x_mat.pdf\",\n",
        "    \"https://consmendoza.esteri.it/consolato_mendoza/es/i_servizi/per_i_cittadini/cittadinanza/ciudadania-matrimonio-doc.html\",\n",
        "    \"https://consmendoza.esteri.it/consolato_mendoza/it/\",\n",
        "    \"https://docs.google.com/document/d/e/2PACX-1vT8qHba7oGpVWg8FJvToQMgJBGpEib3xyKLHvei_7S2i3Gi5PyFtU6SS7z47AgJQEaNqS0EubNpVYkx/pub\",\n",
        "    \"https://consmendoza.esteri.it/consolato_mendoza/it/la_comunicazione/dal_consolato/2023/06/prenot-mi-appuntamenti-anagrafe_14.html\",\n",
        "    \"https://consmendoza.esteri.it/consolato_mendoza/it/la_comunicazione/dal_consolato/\",\n",
        "    \"https://consmendoza.esteri.it/consolato_mendoza/es\",\n",
        "    ]\n",
        "\n",
        "loader = UnstructuredURLLoader(urls=urls)"
      ],
      "metadata": {
        "id": "6wQnS1q29mlt"
      },
      "execution_count": 54,
      "outputs": []
    },
    {
      "cell_type": "code",
      "source": [
        "data = loader.load()"
      ],
      "metadata": {
        "id": "e5j5cd0Y-d8K"
      },
      "execution_count": 55,
      "outputs": []
    },
    {
      "cell_type": "code",
      "source": [
        "# Import RecursiveCharacterTextSplitter\n",
        "from langchain.text_splitter import RecursiveCharacterTextSplitter\n",
        "\n",
        "# Create the text splitter\n",
        "splitter = RecursiveCharacterTextSplitter(\n",
        "    chunk_size=1000,\n",
        "    chunk_overlap=200\n",
        ")\n",
        "\n",
        "# Split the documents\n",
        "documents = splitter.split_documents(data)"
      ],
      "metadata": {
        "id": "CyCJmbg0_leo"
      },
      "execution_count": 56,
      "outputs": []
    },
    {
      "cell_type": "code",
      "source": [
        "# Import tiktoken\n",
        "import tiktoken\n",
        "\n",
        "# Create an encoder\n",
        "encoder = tiktoken.encoding_for_model(\"text-embedding-ada-002\")\n",
        "\n",
        "# Count tokens in each document\n",
        "doc_tokens = [len(encoder.encode(doc.page_content)) for doc in documents]\n",
        "\n",
        "# Calculate the sum of all token counts\n",
        "total_tokens = sum(doc_tokens)\n",
        "\n",
        "# Calculate a cost estimate\n",
        "cost = (total_tokens/1000) * 0.0004\n",
        "print(f\"Total tokens: {total_tokens} - cost: ${cost:.2f}\")"
      ],
      "metadata": {
        "colab": {
          "base_uri": "https://localhost:8080/"
        },
        "id": "RaBHB_6t_rIQ",
        "outputId": "59766c4a-5437-4205-a3ac-9fe829e8d4b1"
      },
      "execution_count": 57,
      "outputs": [
        {
          "output_type": "stream",
          "name": "stdout",
          "text": [
            "Total tokens: 18254 - cost: $0.01\n"
          ]
        }
      ]
    },
    {
      "cell_type": "code",
      "source": [
        "# Import chroma\n",
        "from langchain.vectorstores import Chroma\n",
        "\n",
        "# Import OpenAIEmbeddings\n",
        "from langchain.embeddings.openai import OpenAIEmbeddings\n",
        "\n",
        "# Create the mebedding function\n",
        "embedding_function = OpenAIEmbeddings(openai_api_key= api_key)\n",
        "\n",
        "# Create a database from the documents and embedding function\n",
        "db = Chroma.from_documents(documents=documents, embedding=embedding_function, persist_directory=\"my-embeddings\")\n",
        "\n",
        "# Persist the data to disk\n",
        "db.persist()"
      ],
      "metadata": {
        "id": "2PE2Zy-gAQwE"
      },
      "execution_count": 58,
      "outputs": []
    },
    {
      "cell_type": "code",
      "source": [
        "# Import\n",
        "from langchain.prompts import PromptTemplate\n",
        "from langchain.chains.llm import LLMChain\n",
        "from langchain.chat_models import ChatOpenAI\n",
        "\n",
        "# Set the question variable\n",
        "#question = \"¿Cual es el handle de twitter del consulado de italia en mendoza?\"\n",
        "#question = \"Que pasos debo realizar  para pedir la ciudadania por matrimonio? ¿Puedes ponerlo en una lista en viñetas?\"\n",
        "#question = \"Que requisitos debo cumplir  para pedir la ciudadania por matrimonio? ¿Puedes ponerlo en una lista en viñetas?\"\n",
        "#question = \"¿Cuanto demora el certificado de antecedentes penales?\"\n",
        "#question = \"Cuando son los proximos turnos\"\n",
        "question =  \"¿Quien es el cónsul en Mendoza?\"\n",
        "\n",
        "# Query the database as store the results as `context_docs`\n",
        "context_docs = db.similarity_search(question)\n",
        "\n",
        "# Create a prompt with 2 variables: `context` and `question`\n",
        "prompt = PromptTemplate(\n",
        "    template=\"\"\"\"Usa los siguientes elementos de contexto para responder a la pregunta al final. Si no conoces la respuesta, di que no lo sabes,no inventes una respuesta.\n",
        "\n",
        "<context>\n",
        "{context}\n",
        "</context>\n",
        "\n",
        "Domanda: {question}\n",
        "Respuesta:\"\"\",\n",
        "    input_variables=[\"context\", \"question\"]\n",
        ")\n",
        "\n",
        "# Create an LLM with ChatOpenAI\n",
        "llm = ChatOpenAI(openai_api_key=api_key,temperature=0)\n",
        "\n",
        "# Create the chain\n",
        "qa_chain = LLMChain(llm=llm, prompt=prompt)\n",
        "\n",
        "# Call the chain\n",
        "result = qa_chain({\n",
        "    \"question\": question,\n",
        "    \"context\": \"\\n\".join([doc.page_content for doc in context_docs])\n",
        "})\n",
        "\n",
        "# Print the result\n",
        "print(result[\"text\"])"
      ],
      "metadata": {
        "id": "ZFUd4Y7pF-r0",
        "outputId": "c02013e9-e07b-49fe-b0d4-73e0d78d9901",
        "colab": {
          "base_uri": "https://localhost:8080/"
        }
      },
      "execution_count": 71,
      "outputs": [
        {
          "output_type": "stream",
          "name": "stdout",
          "text": [
            "No se menciona el nombre del cónsul en Mendoza en el contexto proporcionado.\n"
          ]
        }
      ]
    },
    {
      "cell_type": "code",
      "source": [
        "# Set the question variable\n",
        "question = \"¿Quale é il contatto del consolato d' italia en mendoza?\"\n",
        "#question = \"¿Quando sono i appuntamenti per la cittadinanza?\"\n",
        "\n",
        "# Query the database as store the results as `context_docs`\n",
        "context_docs = db.similarity_search(question)\n",
        "\n",
        "prompt = PromptTemplate(\n",
        "    template=\"\"\"\"Usa i seguenti elementi di contesto per rispondere alla domanda alla fine. Se non conosci la risposta, dì semplicemente che non lo sai, non cercare di inventare una risposta.\n",
        "\n",
        "<context>\n",
        "{context}\n",
        "</context>\n",
        "\n",
        "Domanda: {question}\n",
        "Risposta:\"\"\",\n",
        "    input_variables=[\"context\", \"question\"]\n",
        ")\n",
        "\n",
        "# Create an LLM with ChatOpenAI\n",
        "llm = ChatOpenAI(openai_api_key=api_key,temperature=0)\n",
        "\n",
        "# Create the chain\n",
        "qa_chain = LLMChain(llm=llm, prompt=prompt)\n",
        "\n",
        "# Call the chain\n",
        "result = qa_chain({\n",
        "    \"question\": question,\n",
        "    \"context\": \"\\n\".join([doc.page_content for doc in context_docs])\n",
        "})\n",
        "\n",
        "# Print the result\n",
        "print(result[\"text\"])"
      ],
      "metadata": {
        "id": "a89xuAH0FeJl",
        "outputId": "c09cdf14-d128-4479-bacc-8d86b087e694",
        "colab": {
          "base_uri": "https://localhost:8080/"
        }
      },
      "execution_count": 73,
      "outputs": [
        {
          "output_type": "stream",
          "name": "stdout",
          "text": [
            "Il contatto del Consolato d'Italia a Mendoza è il seguente: +54 9 261 559 0570 (solo per emergenze e non per informazioni).\n"
          ]
        }
      ]
    },
    {
      "cell_type": "code",
      "source": [
        "from langchain.chains import ConversationChain\n",
        "from langchain.memory import ConversationBufferMemory\n",
        "\n",
        "conversation = ConversationChain(llm=llm, memory=ConversationBufferMemory())\n",
        "conversation.run(\"¿Cual es el handle de twitter del consulado de italia en mendoza?\")\n"
      ],
      "metadata": {
        "id": "T3px1h1RF9Y_",
        "outputId": "05b903da-5f2c-4a73-b7e6-c8916295d2cf",
        "colab": {
          "base_uri": "https://localhost:8080/",
          "height": 35
        }
      },
      "execution_count": 68,
      "outputs": [
        {
          "output_type": "execute_result",
          "data": {
            "text/plain": [
              "'Lo siento, no tengo esa información en mi base de datos. ¿Puedo ayudarte con algo más?'"
            ],
            "application/vnd.google.colaboratory.intrinsic+json": {
              "type": "string"
            }
          },
          "metadata": {},
          "execution_count": 68
        }
      ]
    }
  ]
}